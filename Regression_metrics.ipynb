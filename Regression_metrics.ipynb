{
 "cells": [
  {
   "cell_type": "markdown",
   "metadata": {},
   "source": [
    "#### Regression Evalutaion metrics"
   ]
  },
  {
   "cell_type": "markdown",
   "metadata": {},
   "source": [
    "Model Evaluation is an integral part of the model development process. This notebook focuses on different model evaluation metrics for the Regression model. Regression is a task of predicting the value of target (numerical variable) by building a model based on one or more predictors (numerical and categorical variables). There are many regression models ranging from linear regression to artificial neura networks. "
   ]
  },
  {
   "cell_type": "markdown",
   "metadata": {},
   "source": [
    "##### Code for Regression metrics"
   ]
  },
  {
   "cell_type": "code",
   "execution_count": 1,
   "metadata": {},
   "outputs": [],
   "source": [
    "from sklearn.metrics import mean_squared_error\n",
    "from scipy.stats.stats import pearsonr \n",
    "from sklearn.metrics import r2_score, mean_absolute_error\n",
    "from sklearn.metrics import median_absolute_error\n",
    "import numpy as np"
   ]
  },
  {
   "cell_type": "code",
   "execution_count": 2,
   "metadata": {},
   "outputs": [],
   "source": [
    "def percentage_error(y_true, y_pred):\n",
    "    \"\"\"\n",
    "    function for calculating MAPE. To handle the error while actual value is zero\n",
    "    \"\"\"\n",
    "    res = np.empty(actual.shape)\n",
    "    for j in range(actual.shape[0]):\n",
    "        if actual[j] != 0:\n",
    "            res[j] = (actual[j] - predicted[j]) / actual[j]\n",
    "        else:\n",
    "            res[j] = predicted[j] / np.mean(actual)\n",
    "    return res\n",
    "\n",
    "def mean_absolute_percentage_error(y_true, y_pred): \n",
    "    return np.mean(np.abs(percentage_error(np.asarray(y_true), np.asarray(y_pred)))) * 100\n"
   ]
  },
  {
   "cell_type": "code",
   "execution_count": 3,
   "metadata": {},
   "outputs": [],
   "source": [
    "def regression_metrics(y_true, y_pred):\n",
    "    \n",
    "    '''\n",
    "    This function calculates different metrics that can be used for evaluating the performance of a regression model. Comparision of the below stats helps to identify the model performance.\n",
    "    \n",
    "    '''\n",
    "    \n",
    "    reg_metric = {}\n",
    "    \n",
    "    # Mean Square Error\n",
    "    reg_metric[\"mse\"] = mean_squared_error(y_true,y_pred)\n",
    "    # Root Mean Square Error\n",
    "    reg_metric['rmse'] = np.sqrt(mean_squared_error(y_true,y_pred))\n",
    "    # Normalized Root Mean Square Error\n",
    "    reg_metric['norm_rmse'] = reg_metric[\"rmse\"]/np.mean(y_true)\n",
    "    # Mean of the actual values\n",
    "    reg_metric['actual_mean'] = np.mean(y_true)\n",
    "    # Median of the actual values\n",
    "    reg_metric['actual_median'] = np.median(y_true)\n",
    "    # Standard deviation of the actual values\n",
    "    reg_metric['actual_std'] = np.std(y_true)\n",
    "    # Median of the predicted values\n",
    "    reg_metric['predicted_median'] = np.median(y_pred)\n",
    "    # Mean of the predicted values\n",
    "    reg_metric['predicted_mean'] = np.mean(y_pred)\n",
    "    # Standard deviation of the predicted values\n",
    "    reg_metric['predicted_std'] = np.std(y_pred)\n",
    "    # R2 metric - How well predictions are compared to the average value\n",
    "    reg_metric['r2'] = r2_score(y_true,y_pred)\n",
    "    # Mean of the absolute residuals\n",
    "    reg_metric['mae'] = mean_absolute_error(y_true,y_pred)    \n",
    "    # Correlation between actual and predicted values\n",
    "    reg_metric['corr'] = pearsonr(y_true,y_pred)[0]\n",
    "    # Median of the absolute residuals\n",
    "    reg_metric['median_absoulte_error'] = median_absolute_error(y_true,y_pred)\n",
    "    # MAPE\n",
    "    y_true, y_pred = np.array(y_true), np.array(y_pred)     \n",
    "    reg_metric['mean_absolute_percentage_error'] = mean_absolute_percentage_error(y_true,y_pred)\n",
    "    \n",
    "    return pd.DataFrame([reg_metric])\n"
   ]
  }
 ],
 "metadata": {
  "kernelspec": {
   "display_name": "Python 3",
   "language": "python",
   "name": "python3"
  },
  "language_info": {
   "codemirror_mode": {
    "name": "ipython",
    "version": 3
   },
   "file_extension": ".py",
   "mimetype": "text/x-python",
   "name": "python",
   "nbconvert_exporter": "python",
   "pygments_lexer": "ipython3",
   "version": "3.6.5"
  }
 },
 "nbformat": 4,
 "nbformat_minor": 2
}
